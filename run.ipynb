{
  "nbformat": 4,
  "nbformat_minor": 0,
  "metadata": {
    "colab": {
      "provenance": [],
      "gpuType": "T4",
      "mount_file_id": "1igcpOhOYOnAbpLOXOOYuvx48QRt4-AOz",
      "authorship_tag": "ABX9TyOSlb88vMwXpYHDR/f17eW9",
      "include_colab_link": true
    },
    "kernelspec": {
      "name": "python3",
      "display_name": "Python 3"
    },
    "language_info": {
      "name": "python"
    },
    "accelerator": "GPU"
  },
  "cells": [
    {
      "cell_type": "markdown",
      "metadata": {
        "id": "view-in-github",
        "colab_type": "text"
      },
      "source": [
        "<a href=\"https://colab.research.google.com/github/Valepuz/Pytorch-dummy/blob/main/run.ipynb\" target=\"_parent\"><img src=\"https://colab.research.google.com/assets/colab-badge.svg\" alt=\"Open In Colab\"/></a>"
      ]
    },
    {
      "cell_type": "code",
      "source": [
        "!git clone https://github.com/Valepuz/Pytorch-dummy.git"
      ],
      "metadata": {
        "colab": {
          "base_uri": "https://localhost:8080/"
        },
        "id": "6Njo8E4GArZO",
        "outputId": "cd26e8ed-cd42-4889-c30c-c621d17aa97e"
      },
      "execution_count": 1,
      "outputs": [
        {
          "output_type": "stream",
          "name": "stdout",
          "text": [
            "Cloning into 'Pytorch-dummy'...\n",
            "remote: Enumerating objects: 30, done.\u001b[K\n",
            "remote: Counting objects: 100% (30/30), done.\u001b[K\n",
            "remote: Compressing objects: 100% (26/26), done.\u001b[K\n",
            "remote: Total 30 (delta 0), reused 27 (delta 0), pack-reused 0\u001b[K\n",
            "Receiving objects: 100% (30/30), 2.51 MiB | 2.04 MiB/s, done.\n"
          ]
        }
      ]
    },
    {
      "cell_type": "code",
      "execution_count": 13,
      "metadata": {
        "id": "8EwFY3yJY3Pp",
        "colab": {
          "base_uri": "https://localhost:8080/"
        },
        "outputId": "af7ffef1-8a2b-4ec9-ba51-9f0774cc0216"
      },
      "outputs": [
        {
          "output_type": "stream",
          "name": "stdout",
          "text": [
            "Traceback (most recent call last):\n",
            "  File \"/content/Pytorch-dummy/train.py\", line 129, in <module>\n",
            "    main()\n",
            "  File \"/content/Pytorch-dummy/train.py\", line 124, in main\n",
            "    data_func = config['data_provider'].init(config)\n",
            "  File \"/content/Pytorch-dummy/data/MPII/dp.py\", line 136, in init\n",
            "    import ref as ds\n",
            "  File \"/content/Pytorch-dummy/data/MPII/ref.py\", line 13, in <module>\n",
            "    assert os.path.exists(img_dir)\n",
            "AssertionError\n"
          ]
        }
      ],
      "source": [
        "!python /content/Pytorch-dummy/train.py -e test_run_001"
      ]
    }
  ]
}